{
 "cells": [
  {
   "cell_type": "code",
   "execution_count": null,
   "id": "01e86b4b",
   "metadata": {},
   "outputs": [],
   "source": [
    "import pandas as pd\n",
    "import numpy as np\n",
    "from matplotlib import pyplot as plt\n",
    "from sklearn.feature_extraction.text import CountVectorizer\n",
    "from sklearn.model_selection import train_test_split\n",
    "from sklearn.ensemble import RandomForestClassifier\n",
    "from xgboost import XGBClassifier\n",
    "from sklearn.metrics import accuracy_score\n",
    "import tensorflow as tf\n",
    "from tensorflow import keras\n",
    "from keras.layers import Embedding, MultiHeadAttention, Dense, InputLayer, Input, Dot, GlobalAveragePooling1D\n",
    "from keras.losses import BinaryCrossentropy\n",
    "from keras.activations import sigmoid, relu\n",
    "from keras.models import Model\n",
    "from keras.utils import plot_model, model_to_dot\n",
    "import pydot\n",
    "import graphviz\n",
    "from tensorflow.keras.preprocessing.text import Tokenizer\n",
    "from tensorflow.keras.preprocessing.sequence import pad_sequences\n",
    "\n",
    "\n"
   ]
  },
  {
   "cell_type": "code",
   "execution_count": null,
   "id": "958ba69d",
   "metadata": {},
   "outputs": [],
   "source": [
    "df = pd.read_csv(\"questions.csv\")\n",
    "\n"
   ]
  },
  {
   "cell_type": "code",
   "execution_count": null,
   "id": "9de291a0",
   "metadata": {},
   "outputs": [],
   "source": [
    "print(df.head())\n",
    "print(\"\\n-------------------------------\\n\")\n",
    "print(df.info())\n"
   ]
  },
  {
   "cell_type": "code",
   "execution_count": null,
   "id": "06e43c0b",
   "metadata": {},
   "outputs": [],
   "source": [
    "df.isnull().sum()\n",
    "df.dropna(inplace=True)\n",
    "df.isnull().sum()\n"
   ]
  },
  {
   "cell_type": "code",
   "execution_count": null,
   "id": "0311f387",
   "metadata": {},
   "outputs": [],
   "source": [
    "df[\"question1\"].duplicated().sum()\n"
   ]
  },
  {
   "cell_type": "code",
   "execution_count": null,
   "id": "c16cac2d",
   "metadata": {},
   "outputs": [],
   "source": [
    "df[\"is_duplicate\"].value_counts()\n"
   ]
  },
  {
   "cell_type": "code",
   "execution_count": null,
   "id": "7fe1cb3b",
   "metadata": {},
   "outputs": [],
   "source": [
    "ddf = pd.Series(df[\"question1\"].to_list()+df[\"question2\"].to_list())\n",
    "np.unique(ddf).shape\n"
   ]
  },
  {
   "cell_type": "code",
   "execution_count": null,
   "id": "ab8f54f6",
   "metadata": {},
   "outputs": [],
   "source": [
    "x = ddf.value_counts()>1\n",
    "x[x].shape\n"
   ]
  },
  {
   "cell_type": "code",
   "execution_count": null,
   "id": "c870ec3c",
   "metadata": {},
   "outputs": [],
   "source": [
    "# df.drop(columns=[\"id\", \"qid1\",\"qid2\"], inplace = True)\n",
    "\n",
    "df_small = df[:30000]\n",
    "df_small.shape\n"
   ]
  },
  {
   "cell_type": "code",
   "execution_count": null,
   "id": "cc92aed8",
   "metadata": {},
   "outputs": [],
   "source": [
    "df_small.shape\n"
   ]
  },
  {
   "cell_type": "code",
   "execution_count": null,
   "id": "ea630274",
   "metadata": {},
   "outputs": [],
   "source": [
    "questions_list = df_small[\"question1\"].to_list()+df_small[\"question2\"].to_list()\n",
    "len(questions_list)"
   ]
  },
  {
   "cell_type": "code",
   "execution_count": null,
   "id": "3521e80b",
   "metadata": {},
   "outputs": [],
   "source": [
    "q_counts = pd.Series(questions_list).value_counts().values"
   ]
  },
  {
   "cell_type": "code",
   "execution_count": null,
   "id": "5b8bbfef",
   "metadata": {},
   "outputs": [],
   "source": [
    "plt.hist(q_counts, bins = 160)\n",
    "plt.yscale('log')\n",
    "plt.show()\n"
   ]
  },
  {
   "cell_type": "code",
   "execution_count": null,
   "id": "4adc0711",
   "metadata": {},
   "outputs": [],
   "source": [
    "vocab_size = 20000\n",
    "oov = \"oov\"\n",
    "\n",
    "tokenizer = Tokenizer(num_words=vocab_size, oov_token=oov)\n",
    "\n",
    "tokenizer.fit_on_texts(questions_list)\n"
   ]
  },
  {
   "cell_type": "code",
   "execution_count": null,
   "id": "cedc9c5b",
   "metadata": {},
   "outputs": [],
   "source": [
    "tokenized_questions = tokenizer.texts_to_sequences(questions_list)\n",
    "len(tokenized_questions)\n"
   ]
  },
  {
   "cell_type": "code",
   "execution_count": null,
   "id": "76b1f5e4",
   "metadata": {},
   "outputs": [],
   "source": [
    "len(tokenized_questions)"
   ]
  },
  {
   "cell_type": "code",
   "execution_count": null,
   "id": "b328df72",
   "metadata": {},
   "outputs": [],
   "source": [
    "text_lens = [len(tokenized_text) for tokenized_text in tokenized_questions]\n",
    "# print(np.array(text_lens))\n",
    "oversized = []\n",
    "for i, length in enumerate(text_lens):\n",
    "  if length>20 or length<1:\n",
    "    oversized.append(i)\n",
    "\n",
    "len(oversized)\n",
    "# oversized\n",
    "\n",
    "\n"
   ]
  },
  {
   "cell_type": "code",
   "execution_count": null,
   "id": "6469b389",
   "metadata": {},
   "outputs": [],
   "source": [
    "text_lens = [len(tokenized_text) for tokenized_text in tokenized_questions]\n",
    "min(text_lens)\n"
   ]
  },
  {
   "cell_type": "code",
   "execution_count": null,
   "id": "9ba46fb0",
   "metadata": {},
   "outputs": [],
   "source": [
    "\n",
    "# pad_lens = [len(padded_sequence) for padded_sequence in padded_sequences]\n",
    "\n",
    "plt.hist(text_lens, bins=100)\n",
    "# plt.xlim((0,))\n",
    "plt.show()"
   ]
  },
  {
   "cell_type": "code",
   "execution_count": null,
   "id": "c6064178",
   "metadata": {},
   "outputs": [],
   "source": [
    "padded_sequences = pad_sequences(tokenized_questions, maxlen=40, padding='post')\n",
    "padded_sequences.shape"
   ]
  },
  {
   "cell_type": "code",
   "execution_count": null,
   "id": "427ef7f0",
   "metadata": {},
   "outputs": [],
   "source": [
    "q1_input = Input(shape=(40,), name=\"q1\")\n",
    "q2_input = Input(shape=(40,), name=\"q2\")\n",
    "\n",
    "embedding = Embedding(len(tokenizer.word_counts)+2, 512, input_length=40, name=\"Embedding\")\n",
    "\n",
    "q1_embedding = embedding(q1_input)\n",
    "q2_embedding = embedding(q2_input)\n",
    "\n",
    "attention = MultiHeadAttention(num_heads=8, key_dim=64, dropout=0.2)\n",
    "\n",
    "q1_attended = attention(query=q1_embedding, key=q1_embedding, value=q1_embedding)\n",
    "q2_attended = attention(query=q2_embedding, key=q2_embedding, value=q2_embedding)\n",
    "\n",
    "pooling = GlobalAveragePooling1D()\n",
    "\n",
    "q1_pooled = pooling(q1_attended)\n",
    "q2_pooled = pooling(q2_attended)\n",
    "\n",
    "similarity = Dot(axes=1, normalize=True)([q1_pooled, q2_pooled])\n",
    "\n",
    "fc_layer = Dense(units=1, activation=sigmoid)(similarity)\n",
    "\n",
    "model = Model(inputs=[q1_input, q2_input], outputs=fc_layer, name=\"embedder_model\")"
   ]
  },
  {
   "cell_type": "code",
   "execution_count": null,
   "id": "777f6ee3",
   "metadata": {},
   "outputs": [],
   "source": [
    "\n",
    "model.summary()"
   ]
  },
  {
   "cell_type": "code",
   "execution_count": null,
   "id": "1a454966",
   "metadata": {},
   "outputs": [],
   "source": [
    "plot_model(model, show_shapes=True, show_layer_names=True)"
   ]
  },
  {
   "cell_type": "code",
   "execution_count": null,
   "id": "b33a17d6",
   "metadata": {},
   "outputs": [],
   "source": [
    "from sklearn.preprocessing import StandardScaler\n",
    "\n",
    "\n",
    "\n",
    "new_data = np.vsplit(padded_sequences,2)\n",
    "\n",
    "q1=new_data[0]\n",
    "q2=new_data[1]\n",
    "\n",
    "\n",
    "# q1_df = pd.DataFrame(q1)\n",
    "# q2_df = pd.DataFrame(q2)\n",
    "\n",
    "\n",
    "\n"
   ]
  },
  {
   "cell_type": "code",
   "execution_count": null,
   "id": "4cfbd02f",
   "metadata": {},
   "outputs": [],
   "source": [
    "scaler = StandardScaler()\n",
    "q1_sc = np.array([scaler.fit_transform(row.reshape(-1, 1)).flatten() for row in q1])\n",
    "q2_sc = np.array([scaler.fit_transform(row.reshape(-1, 1)).flatten() for row in q2])\n",
    "\n",
    "# q1 = scaler.fit_transform()\n",
    "# q2 = scaler.transform(q2)\n",
    "q1_sc[0].std()"
   ]
  },
  {
   "cell_type": "code",
   "execution_count": null,
   "id": "164e759d",
   "metadata": {},
   "outputs": [],
   "source": [
    "model.compile(loss=\"binary_crossentropy\", optimizer=\"adam\", metrics=[\"accuracy\"])"
   ]
  },
  {
   "cell_type": "code",
   "execution_count": null,
   "id": "7d9483e8",
   "metadata": {},
   "outputs": [],
   "source": [
    "# res = model.predict([q1[:100], q2[:100]])\n",
    "\n",
    "# print(res)"
   ]
  },
  {
   "cell_type": "code",
   "execution_count": null,
   "id": "b8e73cb6",
   "metadata": {},
   "outputs": [],
   "source": [
    "y = np.array(df_small[\"is_duplicate\"])\n",
    "y.shape"
   ]
  },
  {
   "cell_type": "code",
   "execution_count": null,
   "id": "12e0c526",
   "metadata": {},
   "outputs": [],
   "source": [
    "padded_sequences.shape"
   ]
  },
  {
   "cell_type": "code",
   "execution_count": null,
   "id": "992b126e",
   "metadata": {},
   "outputs": [],
   "source": [
    "history = model.fit([q1, q2], y, batch_size=32, epochs=10, validation_split=0.1)\n"
   ]
  },
  {
   "cell_type": "code",
   "execution_count": null,
   "id": "8a8218d0",
   "metadata": {},
   "outputs": [],
   "source": [
    "# ques1 = \n",
    "# data2\n",
    "\n",
    "df_small\n",
    "df_small[\"q_pair\"] = df_small[\"question1\"] +\" EndOfQuestion1 \"+ df_small[\"question2\"]\n",
    "df_small[\"q_pair\"][0]"
   ]
  },
  {
   "cell_type": "markdown",
   "id": "15fd4315",
   "metadata": {},
   "source": [
    "# New Strategy"
   ]
  },
  {
   "cell_type": "code",
   "execution_count": null,
   "id": "8213b85c",
   "metadata": {},
   "outputs": [],
   "source": [
    "tokenizer2 = Tokenizer()\n",
    "tokenizer2.fit_on_texts(df_small[\"q_pair\"])\n"
   ]
  },
  {
   "cell_type": "code",
   "execution_count": null,
   "id": "85d7f23b",
   "metadata": {},
   "outputs": [],
   "source": [
    "q_pair_tokenized = tokenizer2.texts_to_sequences(df_small[\"q_pair\"])\n",
    "q_pair_tokenized"
   ]
  },
  {
   "cell_type": "code",
   "execution_count": null,
   "id": "d07f9a54",
   "metadata": {},
   "outputs": [],
   "source": [
    "padded_q_pairs = pad_sequences(q_pair_tokenized, maxlen=80, padding=\"post\")\n",
    "padded_q_pairs"
   ]
  },
  {
   "cell_type": "code",
   "execution_count": null,
   "id": "a0b02156",
   "metadata": {},
   "outputs": [],
   "source": [
    "scaler=StandardScaler()\n",
    "scaled_q_pairs=np.array([scaler.fit_transform(padded_q_pair.reshape(-1,1)).flatten() for padded_q_pair in padded_q_pairs])\n",
    "# q1 = np.array([scaler.fit_transform(row.reshape(-1, 1)).flatten() for row in q1])\n"
   ]
  },
  {
   "cell_type": "code",
   "execution_count": null,
   "id": "57663d0e",
   "metadata": {},
   "outputs": [],
   "source": [
    "q_pair_lens = [len(qp) for qp in padded_q_pairs]\n",
    "plt.hist(q_pair_lens, bins=100)\n",
    "# plt.xlim((0,100))\n",
    "plt.show()"
   ]
  },
  {
   "cell_type": "code",
   "execution_count": null,
   "id": "46a06188",
   "metadata": {},
   "outputs": [],
   "source": [
    "from keras.layers import Flatten\n",
    "qp_ip = Input(shape=(80,), name=\"qp_ip_layer\")\n",
    "qp_emb = Embedding(input_dim=(len(tokenizer2.word_counts)+2), output_dim=256, name=\"qp_emb_layer\")(qp_ip)\n",
    "\n",
    "qp_att = MultiHeadAttention(num_heads=8, key_dim=64, name=\"qp_mha_layer\")(query=qp_emb, key=qp_emb, value=qp_emb)\n",
    "\n",
    "qp_flatten=Flatten()(qp_att)\n",
    "\n",
    "qp_dense1 = Dense(64, activation=relu)(qp_flatten)\n",
    "qp_dense2 = Dense(1, activation=sigmoid)(qp_dense1)\n",
    "\n",
    "qp_model = Model(inputs=[qp_ip], outputs=[qp_dense2], name = \"qp_model\")\n",
    "\n",
    "\n",
    "qp_model.compile(loss=\"binary_crossentropy\", optimizer=\"adam\", metrics=[\"accuracy\"])\n",
    "qp_model.summary()\n",
    "\n"
   ]
  },
  {
   "cell_type": "code",
   "execution_count": null,
   "id": "a8dec7ac",
   "metadata": {},
   "outputs": [],
   "source": [
    "plot_model(qp_model, show_shapes=True)"
   ]
  },
  {
   "cell_type": "code",
   "execution_count": null,
   "id": "43ae6e21",
   "metadata": {},
   "outputs": [],
   "source": [
    "X=scaled_q_pairs\n",
    "y=df_small[\"is_duplicate\"]\n",
    "\n",
    "X_train, X_test, y_train, y_test = train_test_split(X, y, test_size=0.2)"
   ]
  },
  {
   "cell_type": "code",
   "execution_count": null,
   "id": "211bb987",
   "metadata": {},
   "outputs": [],
   "source": [
    "\n",
    "qp_model.fit(X_train, y_train, epochs=20, batch_size=32, validation_split=0.1)"
   ]
  },
  {
   "cell_type": "code",
   "execution_count": null,
   "id": "111df894",
   "metadata": {},
   "outputs": [],
   "source": []
  },
  {
   "cell_type": "code",
   "execution_count": null,
   "id": "0c4e8fc5",
   "metadata": {},
   "outputs": [],
   "source": [
    "cv = CountVectorizer(max_features=4000)\n",
    "\n",
    "vectorized_samples = cv.fit_transform(questions_list)"
   ]
  },
  {
   "cell_type": "code",
   "execution_count": null,
   "id": "359ac199",
   "metadata": {},
   "outputs": [],
   "source": [
    "q1, q2 = np.vsplit(vectorized_samples.toarray(),2)"
   ]
  },
  {
   "cell_type": "code",
   "execution_count": null,
   "id": "15cf4dee",
   "metadata": {},
   "outputs": [],
   "source": [
    "q1"
   ]
  },
  {
   "cell_type": "code",
   "execution_count": null,
   "id": "84b6e9ae",
   "metadata": {},
   "outputs": [],
   "source": [
    "temp1 = pd.DataFrame(q1, index=df.index)\n",
    "temp2 = pd.DataFrame(q2, index=df.index)"
   ]
  },
  {
   "cell_type": "code",
   "execution_count": null,
   "id": "5bb497bf",
   "metadata": {},
   "outputs": [],
   "source": [
    "final_df = pd.concat([temp1, temp2], axis=1)"
   ]
  },
  {
   "cell_type": "code",
   "execution_count": null,
   "id": "80ad5aa6",
   "metadata": {},
   "outputs": [],
   "source": [
    "final_df"
   ]
  },
  {
   "cell_type": "code",
   "execution_count": null,
   "id": "9dc4b137",
   "metadata": {},
   "outputs": [],
   "source": [
    "final_df[\"is_duplicate\"] = df[\"is_duplicate\"]\n",
    "final_df\n"
   ]
  },
  {
   "cell_type": "code",
   "execution_count": null,
   "id": "48379802",
   "metadata": {},
   "outputs": [],
   "source": [
    "X = final_df.drop([\"is_duplicate\"], axis=1)\n",
    "y = final_df[\"is_duplicate\"]\n",
    "X_train, X_test, y_train, y_test = train_test_split(X,y, test_size=0.2, random_state = 42)"
   ]
  },
  {
   "cell_type": "code",
   "execution_count": null,
   "id": "faed3c2b",
   "metadata": {},
   "outputs": [],
   "source": [
    "rf = RandomForestClassifier()\n",
    "rf.fit(X_train, y_train)"
   ]
  },
  {
   "cell_type": "code",
   "execution_count": null,
   "id": "6f17dd8b",
   "metadata": {},
   "outputs": [],
   "source": [
    "y_pred = rf.predict(X_test)\n",
    "accuracy = accuracy_score(y_test, y_pred)\n",
    "accuracy"
   ]
  },
  {
   "cell_type": "code",
   "execution_count": null,
   "id": "76326bc3",
   "metadata": {},
   "outputs": [],
   "source": [
    "xgb = XGBClassifier()\n"
   ]
  },
  {
   "cell_type": "code",
   "execution_count": null,
   "id": "bca93cef",
   "metadata": {},
   "outputs": [],
   "source": [
    "xgb.fit(X_train.values, y_train.values)"
   ]
  },
  {
   "cell_type": "code",
   "execution_count": null,
   "id": "66f5e5c3",
   "metadata": {},
   "outputs": [],
   "source": [
    "y_pred2 = xgb.predict(X_test.values)\n",
    "accuracy2 = accuracy_score(y_test, y_pred2)\n",
    "accuracy2"
   ]
  }
 ],
 "metadata": {
  "kernelspec": {
   "display_name": ".venv",
   "language": "python",
   "name": "python3"
  },
  "language_info": {
   "codemirror_mode": {
    "name": "ipython",
    "version": 3
   },
   "file_extension": ".py",
   "mimetype": "text/x-python",
   "name": "python",
   "nbconvert_exporter": "python",
   "pygments_lexer": "ipython3",
   "version": "3.12.7"
  }
 },
 "nbformat": 4,
 "nbformat_minor": 5
}
